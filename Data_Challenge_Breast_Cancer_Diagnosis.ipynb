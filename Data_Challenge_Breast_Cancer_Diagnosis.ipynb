{
 "cells": [
  {
   "cell_type": "markdown",
   "metadata": {
    "toc": true
   },
   "source": [
    "<h1>Table of Contents<span class=\"tocSkip\"></span></h1>\n",
    "<div class=\"toc\"><ul class=\"toc-item\"><li><span><a href=\"#Introduction\" data-toc-modified-id=\"Introduction-1\"><span class=\"toc-item-num\">1&nbsp;&nbsp;</span>Introduction</a></span><ul class=\"toc-item\"><li><span><a href=\"#Breast-Cancer-Diagnosis-Data-Challenge\" data-toc-modified-id=\"Breast-Cancer-Diagnosis-Data-Challenge-1.1\"><span class=\"toc-item-num\">1.1&nbsp;&nbsp;</span>Breast Cancer Diagnosis Data Challenge</a></span></li><li><span><a href=\"#Problem-statement\" data-toc-modified-id=\"Problem-statement-1.2\"><span class=\"toc-item-num\">1.2&nbsp;&nbsp;</span>Problem statement</a></span></li></ul></li><li><span><a href=\"#Executive-summary\" data-toc-modified-id=\"Executive-summary-2\"><span class=\"toc-item-num\">2&nbsp;&nbsp;</span>Executive summary</a></span></li><li><span><a href=\"#Imports-and-loading-data\" data-toc-modified-id=\"Imports-and-loading-data-3\"><span class=\"toc-item-num\">3&nbsp;&nbsp;</span>Imports and loading data</a></span><ul class=\"toc-item\"><li><span><a href=\"#Imports\" data-toc-modified-id=\"Imports-3.1\"><span class=\"toc-item-num\">3.1&nbsp;&nbsp;</span>Imports</a></span></li><li><span><a href=\"#Loading-data\" data-toc-modified-id=\"Loading-data-3.2\"><span class=\"toc-item-num\">3.2&nbsp;&nbsp;</span>Loading data</a></span></li></ul></li><li><span><a href=\"#Pre-processing-(cleaning,-removing-duplicates,-etc.)\" data-toc-modified-id=\"Pre-processing-(cleaning,-removing-duplicates,-etc.)-4\"><span class=\"toc-item-num\">4&nbsp;&nbsp;</span>Pre-processing (cleaning, removing duplicates, etc.)</a></span><ul class=\"toc-item\"><li><span><a href=\"#Changing-values:-'class'-values-changed-to-0-(benign)-and-1-(malignant)\" data-toc-modified-id=\"Changing-values:-'class'-values-changed-to-0-(benign)-and-1-(malignant)-4.1\"><span class=\"toc-item-num\">4.1&nbsp;&nbsp;</span>Changing values: 'class' values changed to 0 (benign) and 1 (malignant)</a></span></li><li><span><a href=\"#Missing-values:-Deleting-NaN-and-other-erroneous-values\" data-toc-modified-id=\"Missing-values:-Deleting-NaN-and-other-erroneous-values-4.2\"><span class=\"toc-item-num\">4.2&nbsp;&nbsp;</span>Missing values: Deleting NaN and other erroneous values</a></span></li><li><span><a href=\"#Duplicates:-checking-for-and-removing-duplicate-values\" data-toc-modified-id=\"Duplicates:-checking-for-and-removing-duplicate-values-4.3\"><span class=\"toc-item-num\">4.3&nbsp;&nbsp;</span>Duplicates: checking for and removing duplicate values</a></span></li></ul></li><li><span><a href=\"#Data-exploration\" data-toc-modified-id=\"Data-exploration-5\"><span class=\"toc-item-num\">5&nbsp;&nbsp;</span>Data exploration</a></span></li><li><span><a href=\"#Feature-selection\" data-toc-modified-id=\"Feature-selection-6\"><span class=\"toc-item-num\">6&nbsp;&nbsp;</span>Feature selection</a></span></li><li><span><a href=\"#Model-selection\" data-toc-modified-id=\"Model-selection-7\"><span class=\"toc-item-num\">7&nbsp;&nbsp;</span>Model selection</a></span><ul class=\"toc-item\"><li><span><a href=\"#Choice-of-model\" data-toc-modified-id=\"Choice-of-model-7.1\"><span class=\"toc-item-num\">7.1&nbsp;&nbsp;</span>Choice of model</a></span></li><li><span><a href=\"#Setting-up-the-model\" data-toc-modified-id=\"Setting-up-the-model-7.2\"><span class=\"toc-item-num\">7.2&nbsp;&nbsp;</span>Setting up the model</a></span></li></ul></li><li><span><a href=\"#Model-performance\" data-toc-modified-id=\"Model-performance-8\"><span class=\"toc-item-num\">8&nbsp;&nbsp;</span>Model performance</a></span></li><li><span><a href=\"#Summary-of-results\" data-toc-modified-id=\"Summary-of-results-9\"><span class=\"toc-item-num\">9&nbsp;&nbsp;</span>Summary of results</a></span></li><li><span><a href=\"#Next-steps\" data-toc-modified-id=\"Next-steps-10\"><span class=\"toc-item-num\">10&nbsp;&nbsp;</span>Next steps</a></span></li></ul></div>"
   ]
  },
  {
   "cell_type": "markdown",
   "metadata": {},
   "source": [
    "# Introduction\n",
    "\n",
    "## Breast Cancer Diagnosis Data Challenge\n",
    "\n",
    "**Author:** Chaney Lin\n",
    "\n",
    "**Date:** 2018-10-14 21:58:47\n",
    "\n",
    "## Problem statement\n",
    "\n",
    "Develop a model that predicts whether a biopsied breast cell is **benign** (not harmful) or **malignant** (cancerous), given a set of attributes about the cell.\n",
    "\n",
    "Data is from the [Breast Cancer Wisconsin Diagnostic Data set](https://app.salesforceiq.com/r?target=5bbe5603c9e77c007a87c635&t=AFwhZf06FUgY_lxQ16f6-VmhuhZOnrgS06gkZCZucANRrKGag3eQaCtYO2cnX7hVORabEjGzAahlxo8V4MaU5E4low2CQRrb82wGsqDDO1ruU5O1J_Vtjd-myp0KLqs46lQpTegKZfxt&url=https%3A%2F%2Farchive.ics.uci.edu%2Fml%2Fmachine-learning-databases%2Fbreast-cancer-wisconsin%2Fbreast-cancer-wisconsin.data)\n",
    "\n",
    "Attributes for each sample are:\n",
    "\n",
    " \n",
    "1. Sample code number: id number \n",
    "\n",
    "2. Clump Thickness: 1 - 10 \n",
    "\n",
    "3. Uniformity of Cell Size: 1 - 10 \n",
    "\n",
    "4. Uniformity of Cell Shape: 1 - 10 \n",
    "\n",
    "5. Marginal Adhesion: 1 - 10 \n",
    "\n",
    "6. Single Epithelial Cell Size: 1 - 10 \n",
    "\n",
    "7. Bare Nuclei: 1 - 10 \n",
    "\n",
    "8. Bland Chromatin: 1 - 10 \n",
    "\n",
    "9. Normal Nucleoli: 1 - 10 \n",
    "\n",
    "10. Mitoses: 1 - 10 \n",
    "\n",
    "11. Class: (2 for benign, 4 for malignant)"
   ]
  },
  {
   "cell_type": "markdown",
   "metadata": {},
   "source": [
    "# Executive summary\n",
    "\n",
    "- Given this is a binary classification problem, we trained three binary classifiers:\n",
    "\n",
    "    1. Logistic Regression\n",
    "    2. SVM\n",
    "    3. Random Forest\n",
    "\n",
    "\n",
    "- We optimized for **recall** (= TP / (TP + FN)), as we think it is more costly to miss cancer when it is present than to identify cancer when it is not present\n",
    "\n",
    "\n",
    "- The models are effective at diagnosing whether biopsied breast cancer cells are malignant vs benign \n",
    "   - All three classifiers produced recall over 94%\n",
    "   - AUC (Area under the ROC curve) for Logistic Regression and Random Forest were both over 97%\n",
    "\n",
    "\n",
    "- Data was cleaned for missing and duplicate values\n",
    "   - Sixteen missing values were found; imputation using mode was performed on the data\n",
    "   - Eight duplicate values were found and removed"
   ]
  },
  {
   "cell_type": "markdown",
   "metadata": {},
   "source": [
    "# Imports and loading data\n",
    "\n",
    "In this section, we first import some standard libraries and set a few notebook options. We then load the data set and give a high-level descriptive statistical overview of the columns"
   ]
  },
  {
   "cell_type": "markdown",
   "metadata": {},
   "source": [
    "## Imports"
   ]
  },
  {
   "cell_type": "code",
   "execution_count": 20,
   "metadata": {
    "ExecuteTime": {
     "end_time": "2018-10-15T05:27:05.531327Z",
     "start_time": "2018-10-15T05:27:05.514980Z"
    }
   },
   "outputs": [
    {
     "name": "stdout",
     "output_type": "stream",
     "text": [
      "The autoreload extension is already loaded. To reload it, use:\n",
      "  %reload_ext autoreload\n"
     ]
    }
   ],
   "source": [
    "import pandas as pd\n",
    "pd.set_option('precision', 3)\n",
    "\n",
    "import qgrid\n",
    "\n",
    "import warnings\n",
    "warnings.filterwarnings('ignore')\n",
    "\n",
    "import matplotlib as mpl\n",
    "import matplotlib.pyplot as plt\n",
    "from matplotlib.patches import Patch\n",
    "from matplotlib.lines import Line2D\n",
    "\n",
    "import seaborn as sns\n",
    "sns.set_context('poster')\n",
    "sns.set_style('whitegrid') \n",
    "plt.rcParams['figure.figsize'] = 12, 8  # plotsize \n",
    "\n",
    "%matplotlib inline\n",
    "%load_ext autoreload\n",
    "%autoreload 1"
   ]
  },
  {
   "cell_type": "markdown",
   "metadata": {},
   "source": [
    "## Loading data"
   ]
  },
  {
   "cell_type": "markdown",
   "metadata": {},
   "source": [
    "**Data filename.**"
   ]
  },
  {
   "cell_type": "code",
   "execution_count": 21,
   "metadata": {
    "ExecuteTime": {
     "end_time": "2018-10-15T05:27:06.042805Z",
     "start_time": "2018-10-15T05:27:06.038069Z"
    }
   },
   "outputs": [],
   "source": [
    "fin = './breast-cancer-wisconsin.data.txt'"
   ]
  },
  {
   "cell_type": "markdown",
   "metadata": {},
   "source": [
    "**Column types**. Adding header names to each columns"
   ]
  },
  {
   "cell_type": "code",
   "execution_count": 22,
   "metadata": {
    "ExecuteTime": {
     "end_time": "2018-10-15T05:27:06.383305Z",
     "start_time": "2018-10-15T05:27:06.377668Z"
    }
   },
   "outputs": [],
   "source": [
    "# column names\n",
    "\"\"\"\n",
    "# Columns and possible values\n",
    "1. Sample code number: id number \n",
    "2. Clump Thickness: 1 - 10 \n",
    "3. Uniformity of Cell Size: 1 - 10 \n",
    "4. Uniformity of Cell Shape: 1 - 10 \n",
    "5. Marginal Adhesion: 1 - 10 \n",
    "6. Single Epithelial Cell Size: 1 - 10 \n",
    "7. Bare Nuclei: 1 - 10 \n",
    "8. Bland Chromatin: 1 - 10 \n",
    "9. Normal Nucleoli: 1 - 10 \n",
    "10. Mitoses: 1 - 10 \n",
    "11. Class: (2 for benign, 4 for malignant)\n",
    "\"\"\"\n",
    "\n",
    "col_names = [\n",
    "    'id', 'thickness', 'usize', 'ushape', 'adhesion',\n",
    "    'cell_size', 'nuclei', 'chromatin', 'nucleoli', 'mitoses', 'class'\n",
    "]"
   ]
  },
  {
   "cell_type": "markdown",
   "metadata": {},
   "source": [
    "**Load data file.**"
   ]
  },
  {
   "cell_type": "code",
   "execution_count": 23,
   "metadata": {
    "ExecuteTime": {
     "end_time": "2018-10-15T05:27:06.771457Z",
     "start_time": "2018-10-15T05:27:06.760794Z"
    }
   },
   "outputs": [],
   "source": [
    "df = pd.read_csv(fin, names = col_names)#, index_col = 0)#, header=1, delim_whitespace=True)"
   ]
  },
  {
   "cell_type": "markdown",
   "metadata": {},
   "source": [
    "**Data types**. Expected all columns to be integer type. Nuclei is unexpectedly object type (we will see it has some erroneous values)"
   ]
  },
  {
   "cell_type": "code",
   "execution_count": 24,
   "metadata": {
    "ExecuteTime": {
     "end_time": "2018-10-15T05:27:07.127009Z",
     "start_time": "2018-10-15T05:27:07.116271Z"
    }
   },
   "outputs": [
    {
     "data": {
      "text/plain": [
       "id            int64\n",
       "thickness     int64\n",
       "usize         int64\n",
       "ushape        int64\n",
       "adhesion      int64\n",
       "cell_size     int64\n",
       "nuclei       object\n",
       "chromatin     int64\n",
       "nucleoli      int64\n",
       "mitoses       int64\n",
       "class         int64\n",
       "dtype: object"
      ]
     },
     "execution_count": 24,
     "metadata": {},
     "output_type": "execute_result"
    }
   ],
   "source": [
    "df.dtypes"
   ]
  },
  {
   "cell_type": "markdown",
   "metadata": {},
   "source": [
    "**Previewing data**. Values in each column are generally as expected. Except for *id*, the columns have a range of values in 1-10"
   ]
  },
  {
   "cell_type": "code",
   "execution_count": 25,
   "metadata": {
    "ExecuteTime": {
     "end_time": "2018-10-15T05:27:07.506215Z",
     "start_time": "2018-10-15T05:27:07.477628Z"
    }
   },
   "outputs": [
    {
     "data": {
      "text/html": [
       "<div>\n",
       "<style scoped>\n",
       "    .dataframe tbody tr th:only-of-type {\n",
       "        vertical-align: middle;\n",
       "    }\n",
       "\n",
       "    .dataframe tbody tr th {\n",
       "        vertical-align: top;\n",
       "    }\n",
       "\n",
       "    .dataframe thead th {\n",
       "        text-align: right;\n",
       "    }\n",
       "</style>\n",
       "<table border=\"1\" class=\"dataframe\">\n",
       "  <thead>\n",
       "    <tr style=\"text-align: right;\">\n",
       "      <th></th>\n",
       "      <th>id</th>\n",
       "      <th>thickness</th>\n",
       "      <th>usize</th>\n",
       "      <th>ushape</th>\n",
       "      <th>adhesion</th>\n",
       "      <th>cell_size</th>\n",
       "      <th>nuclei</th>\n",
       "      <th>chromatin</th>\n",
       "      <th>nucleoli</th>\n",
       "      <th>mitoses</th>\n",
       "      <th>class</th>\n",
       "    </tr>\n",
       "  </thead>\n",
       "  <tbody>\n",
       "    <tr>\n",
       "      <th>0</th>\n",
       "      <td>1000025</td>\n",
       "      <td>5</td>\n",
       "      <td>1</td>\n",
       "      <td>1</td>\n",
       "      <td>1</td>\n",
       "      <td>2</td>\n",
       "      <td>1</td>\n",
       "      <td>3</td>\n",
       "      <td>1</td>\n",
       "      <td>1</td>\n",
       "      <td>2</td>\n",
       "    </tr>\n",
       "    <tr>\n",
       "      <th>1</th>\n",
       "      <td>1002945</td>\n",
       "      <td>5</td>\n",
       "      <td>4</td>\n",
       "      <td>4</td>\n",
       "      <td>5</td>\n",
       "      <td>7</td>\n",
       "      <td>10</td>\n",
       "      <td>3</td>\n",
       "      <td>2</td>\n",
       "      <td>1</td>\n",
       "      <td>2</td>\n",
       "    </tr>\n",
       "    <tr>\n",
       "      <th>2</th>\n",
       "      <td>1015425</td>\n",
       "      <td>3</td>\n",
       "      <td>1</td>\n",
       "      <td>1</td>\n",
       "      <td>1</td>\n",
       "      <td>2</td>\n",
       "      <td>2</td>\n",
       "      <td>3</td>\n",
       "      <td>1</td>\n",
       "      <td>1</td>\n",
       "      <td>2</td>\n",
       "    </tr>\n",
       "    <tr>\n",
       "      <th>3</th>\n",
       "      <td>1016277</td>\n",
       "      <td>6</td>\n",
       "      <td>8</td>\n",
       "      <td>8</td>\n",
       "      <td>1</td>\n",
       "      <td>3</td>\n",
       "      <td>4</td>\n",
       "      <td>3</td>\n",
       "      <td>7</td>\n",
       "      <td>1</td>\n",
       "      <td>2</td>\n",
       "    </tr>\n",
       "    <tr>\n",
       "      <th>4</th>\n",
       "      <td>1017023</td>\n",
       "      <td>4</td>\n",
       "      <td>1</td>\n",
       "      <td>1</td>\n",
       "      <td>3</td>\n",
       "      <td>2</td>\n",
       "      <td>1</td>\n",
       "      <td>3</td>\n",
       "      <td>1</td>\n",
       "      <td>1</td>\n",
       "      <td>2</td>\n",
       "    </tr>\n",
       "  </tbody>\n",
       "</table>\n",
       "</div>"
      ],
      "text/plain": [
       "        id  thickness  usize  ushape  adhesion  cell_size nuclei  chromatin  \\\n",
       "0  1000025          5      1       1         1          2      1          3   \n",
       "1  1002945          5      4       4         5          7     10          3   \n",
       "2  1015425          3      1       1         1          2      2          3   \n",
       "3  1016277          6      8       8         1          3      4          3   \n",
       "4  1017023          4      1       1         3          2      1          3   \n",
       "\n",
       "   nucleoli  mitoses  class  \n",
       "0         1        1      2  \n",
       "1         2        1      2  \n",
       "2         1        1      2  \n",
       "3         7        1      2  \n",
       "4         1        1      2  "
      ]
     },
     "execution_count": 25,
     "metadata": {},
     "output_type": "execute_result"
    }
   ],
   "source": [
    "df.head()"
   ]
  },
  {
   "cell_type": "markdown",
   "metadata": {},
   "source": [
    "**Checking for duplicates.** There are rows with duplicate ids. In some cases, all attributes are identical; in others they differ. We will remove rows that have all attributes identical"
   ]
  },
  {
   "cell_type": "code",
   "execution_count": 26,
   "metadata": {
    "ExecuteTime": {
     "end_time": "2018-10-15T05:27:08.193661Z",
     "start_time": "2018-10-15T05:27:08.164522Z"
    }
   },
   "outputs": [
    {
     "data": {
      "text/html": [
       "<div>\n",
       "<style scoped>\n",
       "    .dataframe tbody tr th:only-of-type {\n",
       "        vertical-align: middle;\n",
       "    }\n",
       "\n",
       "    .dataframe tbody tr th {\n",
       "        vertical-align: top;\n",
       "    }\n",
       "\n",
       "    .dataframe thead th {\n",
       "        text-align: right;\n",
       "    }\n",
       "</style>\n",
       "<table border=\"1\" class=\"dataframe\">\n",
       "  <thead>\n",
       "    <tr style=\"text-align: right;\">\n",
       "      <th></th>\n",
       "      <th>id</th>\n",
       "      <th>thickness</th>\n",
       "      <th>usize</th>\n",
       "      <th>ushape</th>\n",
       "      <th>adhesion</th>\n",
       "      <th>cell_size</th>\n",
       "      <th>nuclei</th>\n",
       "      <th>chromatin</th>\n",
       "      <th>nucleoli</th>\n",
       "      <th>mitoses</th>\n",
       "      <th>class</th>\n",
       "    </tr>\n",
       "  </thead>\n",
       "  <tbody>\n",
       "    <tr>\n",
       "      <th>267</th>\n",
       "      <td>320675</td>\n",
       "      <td>3</td>\n",
       "      <td>3</td>\n",
       "      <td>5</td>\n",
       "      <td>2</td>\n",
       "      <td>3</td>\n",
       "      <td>10</td>\n",
       "      <td>7</td>\n",
       "      <td>1</td>\n",
       "      <td>1</td>\n",
       "      <td>4</td>\n",
       "    </tr>\n",
       "    <tr>\n",
       "      <th>272</th>\n",
       "      <td>320675</td>\n",
       "      <td>3</td>\n",
       "      <td>3</td>\n",
       "      <td>5</td>\n",
       "      <td>2</td>\n",
       "      <td>3</td>\n",
       "      <td>10</td>\n",
       "      <td>7</td>\n",
       "      <td>1</td>\n",
       "      <td>1</td>\n",
       "      <td>4</td>\n",
       "    </tr>\n",
       "    <tr>\n",
       "      <th>575</th>\n",
       "      <td>385103</td>\n",
       "      <td>5</td>\n",
       "      <td>1</td>\n",
       "      <td>2</td>\n",
       "      <td>1</td>\n",
       "      <td>2</td>\n",
       "      <td>1</td>\n",
       "      <td>3</td>\n",
       "      <td>1</td>\n",
       "      <td>1</td>\n",
       "      <td>2</td>\n",
       "    </tr>\n",
       "    <tr>\n",
       "      <th>269</th>\n",
       "      <td>385103</td>\n",
       "      <td>1</td>\n",
       "      <td>1</td>\n",
       "      <td>1</td>\n",
       "      <td>1</td>\n",
       "      <td>2</td>\n",
       "      <td>1</td>\n",
       "      <td>3</td>\n",
       "      <td>1</td>\n",
       "      <td>1</td>\n",
       "      <td>2</td>\n",
       "    </tr>\n",
       "    <tr>\n",
       "      <th>271</th>\n",
       "      <td>411453</td>\n",
       "      <td>5</td>\n",
       "      <td>1</td>\n",
       "      <td>1</td>\n",
       "      <td>1</td>\n",
       "      <td>2</td>\n",
       "      <td>1</td>\n",
       "      <td>3</td>\n",
       "      <td>1</td>\n",
       "      <td>1</td>\n",
       "      <td>2</td>\n",
       "    </tr>\n",
       "  </tbody>\n",
       "</table>\n",
       "</div>"
      ],
      "text/plain": [
       "         id  thickness  usize  ushape  adhesion  cell_size nuclei  chromatin  \\\n",
       "267  320675          3      3       5         2          3     10          7   \n",
       "272  320675          3      3       5         2          3     10          7   \n",
       "575  385103          5      1       2         1          2      1          3   \n",
       "269  385103          1      1       1         1          2      1          3   \n",
       "271  411453          5      1       1         1          2      1          3   \n",
       "\n",
       "     nucleoli  mitoses  class  \n",
       "267         1        1      4  \n",
       "272         1        1      4  \n",
       "575         1        1      2  \n",
       "269         1        1      2  \n",
       "271         1        1      2  "
      ]
     },
     "execution_count": 26,
     "metadata": {},
     "output_type": "execute_result"
    }
   ],
   "source": [
    "(df[df['id'].duplicated(keep=False)]).sort_values(by='id').head() # show a few rows that are duplicated"
   ]
  },
  {
   "cell_type": "markdown",
   "metadata": {},
   "source": [
    "**Summary statistics** for each column"
   ]
  },
  {
   "cell_type": "code",
   "execution_count": 27,
   "metadata": {
    "ExecuteTime": {
     "end_time": "2018-10-15T05:27:08.888946Z",
     "start_time": "2018-10-15T05:27:08.830140Z"
    }
   },
   "outputs": [
    {
     "data": {
      "text/html": [
       "<div>\n",
       "<style scoped>\n",
       "    .dataframe tbody tr th:only-of-type {\n",
       "        vertical-align: middle;\n",
       "    }\n",
       "\n",
       "    .dataframe tbody tr th {\n",
       "        vertical-align: top;\n",
       "    }\n",
       "\n",
       "    .dataframe thead th {\n",
       "        text-align: right;\n",
       "    }\n",
       "</style>\n",
       "<table border=\"1\" class=\"dataframe\">\n",
       "  <thead>\n",
       "    <tr style=\"text-align: right;\">\n",
       "      <th></th>\n",
       "      <th>id</th>\n",
       "      <th>thickness</th>\n",
       "      <th>usize</th>\n",
       "      <th>ushape</th>\n",
       "      <th>adhesion</th>\n",
       "      <th>cell_size</th>\n",
       "      <th>chromatin</th>\n",
       "      <th>nucleoli</th>\n",
       "      <th>mitoses</th>\n",
       "      <th>class</th>\n",
       "    </tr>\n",
       "  </thead>\n",
       "  <tbody>\n",
       "    <tr>\n",
       "      <th>count</th>\n",
       "      <td>6.990e+02</td>\n",
       "      <td>699.000</td>\n",
       "      <td>699.000</td>\n",
       "      <td>699.000</td>\n",
       "      <td>699.000</td>\n",
       "      <td>699.000</td>\n",
       "      <td>699.000</td>\n",
       "      <td>699.000</td>\n",
       "      <td>699.000</td>\n",
       "      <td>699.000</td>\n",
       "    </tr>\n",
       "    <tr>\n",
       "      <th>mean</th>\n",
       "      <td>1.072e+06</td>\n",
       "      <td>4.418</td>\n",
       "      <td>3.134</td>\n",
       "      <td>3.207</td>\n",
       "      <td>2.807</td>\n",
       "      <td>3.216</td>\n",
       "      <td>3.438</td>\n",
       "      <td>2.867</td>\n",
       "      <td>1.589</td>\n",
       "      <td>2.690</td>\n",
       "    </tr>\n",
       "    <tr>\n",
       "      <th>std</th>\n",
       "      <td>6.171e+05</td>\n",
       "      <td>2.816</td>\n",
       "      <td>3.051</td>\n",
       "      <td>2.972</td>\n",
       "      <td>2.855</td>\n",
       "      <td>2.214</td>\n",
       "      <td>2.438</td>\n",
       "      <td>3.054</td>\n",
       "      <td>1.715</td>\n",
       "      <td>0.951</td>\n",
       "    </tr>\n",
       "    <tr>\n",
       "      <th>min</th>\n",
       "      <td>6.163e+04</td>\n",
       "      <td>1.000</td>\n",
       "      <td>1.000</td>\n",
       "      <td>1.000</td>\n",
       "      <td>1.000</td>\n",
       "      <td>1.000</td>\n",
       "      <td>1.000</td>\n",
       "      <td>1.000</td>\n",
       "      <td>1.000</td>\n",
       "      <td>2.000</td>\n",
       "    </tr>\n",
       "    <tr>\n",
       "      <th>25%</th>\n",
       "      <td>8.707e+05</td>\n",
       "      <td>2.000</td>\n",
       "      <td>1.000</td>\n",
       "      <td>1.000</td>\n",
       "      <td>1.000</td>\n",
       "      <td>2.000</td>\n",
       "      <td>2.000</td>\n",
       "      <td>1.000</td>\n",
       "      <td>1.000</td>\n",
       "      <td>2.000</td>\n",
       "    </tr>\n",
       "    <tr>\n",
       "      <th>50%</th>\n",
       "      <td>1.172e+06</td>\n",
       "      <td>4.000</td>\n",
       "      <td>1.000</td>\n",
       "      <td>1.000</td>\n",
       "      <td>1.000</td>\n",
       "      <td>2.000</td>\n",
       "      <td>3.000</td>\n",
       "      <td>1.000</td>\n",
       "      <td>1.000</td>\n",
       "      <td>2.000</td>\n",
       "    </tr>\n",
       "    <tr>\n",
       "      <th>75%</th>\n",
       "      <td>1.238e+06</td>\n",
       "      <td>6.000</td>\n",
       "      <td>5.000</td>\n",
       "      <td>5.000</td>\n",
       "      <td>4.000</td>\n",
       "      <td>4.000</td>\n",
       "      <td>5.000</td>\n",
       "      <td>4.000</td>\n",
       "      <td>1.000</td>\n",
       "      <td>4.000</td>\n",
       "    </tr>\n",
       "    <tr>\n",
       "      <th>max</th>\n",
       "      <td>1.345e+07</td>\n",
       "      <td>10.000</td>\n",
       "      <td>10.000</td>\n",
       "      <td>10.000</td>\n",
       "      <td>10.000</td>\n",
       "      <td>10.000</td>\n",
       "      <td>10.000</td>\n",
       "      <td>10.000</td>\n",
       "      <td>10.000</td>\n",
       "      <td>4.000</td>\n",
       "    </tr>\n",
       "  </tbody>\n",
       "</table>\n",
       "</div>"
      ],
      "text/plain": [
       "              id  thickness    usize   ushape  adhesion  cell_size  chromatin  \\\n",
       "count  6.990e+02    699.000  699.000  699.000   699.000    699.000    699.000   \n",
       "mean   1.072e+06      4.418    3.134    3.207     2.807      3.216      3.438   \n",
       "std    6.171e+05      2.816    3.051    2.972     2.855      2.214      2.438   \n",
       "min    6.163e+04      1.000    1.000    1.000     1.000      1.000      1.000   \n",
       "25%    8.707e+05      2.000    1.000    1.000     1.000      2.000      2.000   \n",
       "50%    1.172e+06      4.000    1.000    1.000     1.000      2.000      3.000   \n",
       "75%    1.238e+06      6.000    5.000    5.000     4.000      4.000      5.000   \n",
       "max    1.345e+07     10.000   10.000   10.000    10.000     10.000     10.000   \n",
       "\n",
       "       nucleoli  mitoses    class  \n",
       "count   699.000  699.000  699.000  \n",
       "mean      2.867    1.589    2.690  \n",
       "std       3.054    1.715    0.951  \n",
       "min       1.000    1.000    2.000  \n",
       "25%       1.000    1.000    2.000  \n",
       "50%       1.000    1.000    2.000  \n",
       "75%       4.000    1.000    4.000  \n",
       "max      10.000   10.000    4.000  "
      ]
     },
     "execution_count": 27,
     "metadata": {},
     "output_type": "execute_result"
    }
   ],
   "source": [
    "df.describe()"
   ]
  },
  {
   "cell_type": "markdown",
   "metadata": {},
   "source": [
    "# Pre-processing (cleaning, removing duplicates, etc.)\n",
    "\n",
    "In this section, we:\n",
    "\n",
    "1. Change 'class' values to 0 (benign) and 1 (malignant)\n",
    "\n",
    "2. Discover that there are 16 missing values in the `nuclei` field; other fields in these rows have similar distribution to the rest of the data set\n",
    "\n",
    "3. Discover 8 samples that have duplicates (all fields identical, including `id` field); these are removed"
   ]
  },
  {
   "cell_type": "markdown",
   "metadata": {},
   "source": [
    "## Changing values: 'class' values changed to 0 (benign) and 1 (malignant)"
   ]
  },
  {
   "cell_type": "markdown",
   "metadata": {},
   "source": [
    "We calculate the number of samples in each class and observe that data is not balanced: ~2/3 are benign and ~1/3 are malignant"
   ]
  },
  {
   "cell_type": "code",
   "execution_count": 28,
   "metadata": {
    "ExecuteTime": {
     "end_time": "2018-10-15T05:27:10.852563Z",
     "start_time": "2018-10-15T05:27:10.839600Z"
    }
   },
   "outputs": [
    {
     "name": "stdout",
     "output_type": "stream",
     "text": [
      "0    458\n",
      "1    241\n",
      "Name: class, dtype: int64\n",
      "0    0.655\n",
      "1    0.345\n",
      "Name: class, dtype: float64\n"
     ]
    }
   ],
   "source": [
    "df['class'] = df['class'].replace(2, 0).replace(4, 1) # replace class values with 0 and 1\n",
    "\n",
    "print(df['class'].value_counts()) # print count of samples in each class\n",
    "\n",
    "print(df['class'].value_counts(normalize = True)) # print proportion of samples in each class"
   ]
  },
  {
   "cell_type": "markdown",
   "metadata": {},
   "source": [
    "## Missing values: Deleting NaN and other erroneous values"
   ]
  },
  {
   "cell_type": "code",
   "execution_count": 29,
   "metadata": {
    "ExecuteTime": {
     "end_time": "2018-10-15T05:27:11.929675Z",
     "start_time": "2018-10-15T05:27:11.880607Z"
    }
   },
   "outputs": [
    {
     "name": "stdout",
     "output_type": "stream",
     "text": [
      "61634       1\n",
      "63375       1\n",
      "76389       1\n",
      "95719       1\n",
      "128059      1\n",
      "142932      1\n",
      "144888      1\n",
      "145447      1\n",
      "160296      1\n",
      "167528      1\n",
      "169356      1\n",
      "183913      1\n",
      "183936      1\n",
      "188336      1\n",
      "191250      1\n",
      "242970      1\n",
      "255644      1\n",
      "263538      1\n",
      "274137      1\n",
      "303213      1\n",
      "314428      1\n",
      "320675      2\n",
      "324382      1\n",
      "324427      1\n",
      "333093      1\n",
      "342245      1\n",
      "352431      1\n",
      "353098      1\n",
      "369565      1\n",
      "378275      1\n",
      "           ..\n",
      "1334667     1\n",
      "1336798     1\n",
      "1339781     2\n",
      "1343068     1\n",
      "1343374     1\n",
      "1344121     1\n",
      "1344449     1\n",
      "1345452     1\n",
      "1345593     1\n",
      "1347749     1\n",
      "1347943     1\n",
      "1348851     1\n",
      "1350319     1\n",
      "1350423     1\n",
      "1350568     1\n",
      "1352663     1\n",
      "1352848     1\n",
      "1353092     1\n",
      "1354840     2\n",
      "1355260     1\n",
      "1365075     1\n",
      "1365328     1\n",
      "1368267     1\n",
      "1368273     1\n",
      "1368882     1\n",
      "1369821     1\n",
      "1371026     1\n",
      "1371920     1\n",
      "8233704     1\n",
      "13454352    1\n",
      "Name: id, Length: 645, dtype: int64 \n",
      "\n",
      "1     145\n",
      "2      50\n",
      "3     108\n",
      "4      80\n",
      "5     130\n",
      "6      34\n",
      "7      23\n",
      "8      46\n",
      "9      14\n",
      "10     69\n",
      "Name: thickness, dtype: int64 \n",
      "\n",
      "1     384\n",
      "2      45\n",
      "3      52\n",
      "4      40\n",
      "5      30\n",
      "6      27\n",
      "7      19\n",
      "8      29\n",
      "9       6\n",
      "10     67\n",
      "Name: usize, dtype: int64 \n",
      "\n",
      "1     353\n",
      "2      59\n",
      "3      56\n",
      "4      44\n",
      "5      34\n",
      "6      30\n",
      "7      30\n",
      "8      28\n",
      "9       7\n",
      "10     58\n",
      "Name: ushape, dtype: int64 \n",
      "\n",
      "1     407\n",
      "2      58\n",
      "3      58\n",
      "4      33\n",
      "5      23\n",
      "6      22\n",
      "7      13\n",
      "8      25\n",
      "9       5\n",
      "10     55\n",
      "Name: adhesion, dtype: int64 \n",
      "\n",
      "1      47\n",
      "2     386\n",
      "3      72\n",
      "4      48\n",
      "5      39\n",
      "6      41\n",
      "7      12\n",
      "8      21\n",
      "9       2\n",
      "10     31\n",
      "Name: cell_size, dtype: int64 \n",
      "\n",
      "1     402\n",
      "10    132\n",
      "2      30\n",
      "3      28\n",
      "4      19\n",
      "5      30\n",
      "6       4\n",
      "7       8\n",
      "8      21\n",
      "9       9\n",
      "?      16\n",
      "Name: nuclei, dtype: int64 \n",
      "\n",
      "1     152\n",
      "2     166\n",
      "3     165\n",
      "4      40\n",
      "5      34\n",
      "6      10\n",
      "7      73\n",
      "8      28\n",
      "9      11\n",
      "10     20\n",
      "Name: chromatin, dtype: int64 \n",
      "\n",
      "1     443\n",
      "2      36\n",
      "3      44\n",
      "4      18\n",
      "5      19\n",
      "6      22\n",
      "7      16\n",
      "8      24\n",
      "9      16\n",
      "10     61\n",
      "Name: nucleoli, dtype: int64 \n",
      "\n",
      "1     579\n",
      "2      35\n",
      "3      33\n",
      "4      12\n",
      "5       6\n",
      "6       3\n",
      "7       9\n",
      "8       8\n",
      "10     14\n",
      "Name: mitoses, dtype: int64 \n",
      "\n",
      "0    458\n",
      "1    241\n",
      "Name: class, dtype: int64 \n",
      "\n"
     ]
    }
   ],
   "source": [
    "for column in df.columns:\n",
    "    \n",
    "    # print distinct values in each column\n",
    "    print(df[column].value_counts().sort_index(),'\\n')\n",
    "    \n",
    "    # print number of null values in each column\n",
    "#     count_nan = len(df[column]) - df[column].count() # method 1\n",
    "#     count_nan = df[column].isna().sum() # method 2\n",
    "#     print(column, count_nan)"
   ]
  },
  {
   "cell_type": "markdown",
   "metadata": {},
   "source": [
    "16 samples have values in `nuclei = ?` and not an integer in range 1-10.\n",
    "\n",
    "Call these `missing` samples. We will compare distribution for incomplete samples with the rest of distribution. First we create a new column called `missing` that is 1 if `nuclei = ?` and 0 otherwise."
   ]
  },
  {
   "cell_type": "code",
   "execution_count": 30,
   "metadata": {
    "ExecuteTime": {
     "end_time": "2018-10-15T05:27:13.036408Z",
     "start_time": "2018-10-15T05:27:13.029897Z"
    }
   },
   "outputs": [],
   "source": [
    "df['missing'] = (df['nuclei'] == '?')*1 # create missing column"
   ]
  },
  {
   "cell_type": "markdown",
   "metadata": {},
   "source": [
    "Convert ?s to NaN"
   ]
  },
  {
   "cell_type": "code",
   "execution_count": 31,
   "metadata": {
    "ExecuteTime": {
     "end_time": "2018-10-15T05:27:13.998569Z",
     "start_time": "2018-10-15T05:27:13.991219Z"
    }
   },
   "outputs": [],
   "source": [
    "df['nuclei'] = df['nuclei'].replace('[?]',np.nan,regex=True).astype(float) # change ? to NaNs"
   ]
  },
  {
   "cell_type": "code",
   "execution_count": 32,
   "metadata": {
    "ExecuteTime": {
     "end_time": "2018-10-15T05:27:15.226668Z",
     "start_time": "2018-10-15T05:27:15.215429Z"
    }
   },
   "outputs": [
    {
     "data": {
      "text/plain": [
       " 1.0     402\n",
       " 10.0    132\n",
       " 5.0      30\n",
       " 2.0      30\n",
       " 3.0      28\n",
       " 8.0      21\n",
       " 4.0      19\n",
       "NaN       16\n",
       " 9.0       9\n",
       " 7.0       8\n",
       " 6.0       4\n",
       "Name: nuclei, dtype: int64"
      ]
     },
     "execution_count": 32,
     "metadata": {},
     "output_type": "execute_result"
    }
   ],
   "source": [
    "df['nuclei'].value_counts(dropna=False) # check by seeing counts for each value"
   ]
  },
  {
   "cell_type": "code",
   "execution_count": 33,
   "metadata": {
    "ExecuteTime": {
     "end_time": "2018-10-15T05:27:15.495363Z",
     "start_time": "2018-10-15T05:27:15.486694Z"
    }
   },
   "outputs": [
    {
     "data": {
      "text/plain": [
       "id             int64\n",
       "thickness      int64\n",
       "usize          int64\n",
       "ushape         int64\n",
       "adhesion       int64\n",
       "cell_size      int64\n",
       "nuclei       float64\n",
       "chromatin      int64\n",
       "nucleoli       int64\n",
       "mitoses        int64\n",
       "class          int64\n",
       "missing        int64\n",
       "dtype: object"
      ]
     },
     "execution_count": 33,
     "metadata": {},
     "output_type": "execute_result"
    }
   ],
   "source": [
    "df.dtypes # check that data type updated"
   ]
  },
  {
   "cell_type": "markdown",
   "metadata": {},
   "source": [
    "**Ratio of benign to malignant** is higher in the incomplete samples, which suggests not to remove"
   ]
  },
  {
   "cell_type": "code",
   "execution_count": 34,
   "metadata": {
    "ExecuteTime": {
     "end_time": "2018-10-15T05:27:15.911741Z",
     "start_time": "2018-10-15T05:27:15.877723Z"
    }
   },
   "outputs": [
    {
     "data": {
      "text/html": [
       "<div>\n",
       "<style scoped>\n",
       "    .dataframe tbody tr th:only-of-type {\n",
       "        vertical-align: middle;\n",
       "    }\n",
       "\n",
       "    .dataframe tbody tr th {\n",
       "        vertical-align: top;\n",
       "    }\n",
       "\n",
       "    .dataframe thead th {\n",
       "        text-align: right;\n",
       "    }\n",
       "</style>\n",
       "<table border=\"1\" class=\"dataframe\">\n",
       "  <thead>\n",
       "    <tr style=\"text-align: right;\">\n",
       "      <th>missing</th>\n",
       "      <th>0</th>\n",
       "      <th>1</th>\n",
       "    </tr>\n",
       "    <tr>\n",
       "      <th>class</th>\n",
       "      <th></th>\n",
       "      <th></th>\n",
       "    </tr>\n",
       "  </thead>\n",
       "  <tbody>\n",
       "    <tr>\n",
       "      <th>0</th>\n",
       "      <td>65.007</td>\n",
       "      <td>87.5</td>\n",
       "    </tr>\n",
       "    <tr>\n",
       "      <th>1</th>\n",
       "      <td>34.993</td>\n",
       "      <td>12.5</td>\n",
       "    </tr>\n",
       "  </tbody>\n",
       "</table>\n",
       "</div>"
      ],
      "text/plain": [
       "missing       0     1\n",
       "class                \n",
       "0        65.007  87.5\n",
       "1        34.993  12.5"
      ]
     },
     "execution_count": 34,
     "metadata": {},
     "output_type": "execute_result"
    }
   ],
   "source": [
    "# counts for each class and for missing\n",
    "df[['missing',\n",
    "    'class']].groupby(by=['class', 'missing']).size().unstack(fill_value=0)\n",
    "\n",
    "# proportion for each class (missing vs non-missing)\n",
    "df[['missing', 'class']].groupby(by=['class', 'missing']).size().unstack(\n",
    "    fill_value=0).apply(lambda x: 100 * x / x.sum())"
   ]
  },
  {
   "cell_type": "markdown",
   "metadata": {},
   "source": [
    "**Distribution of values for missing vs non missing**. It does not appear that the sample values have a significantly different distribution. We will impute the values in the model"
   ]
  },
  {
   "cell_type": "code",
   "execution_count": 35,
   "metadata": {
    "ExecuteTime": {
     "end_time": "2018-10-15T05:27:18.946637Z",
     "start_time": "2018-10-15T05:27:16.449735Z"
    }
   },
   "outputs": [
    {
     "data": {
      "image/png": "[encoded data removed]",
      "text/plain": [
       "<Figure size 432x1152 with 16 Axes>"
      ]
     },
     "metadata": {},
     "output_type": "display_data"
    }
   ],
   "source": [
    "fields_to_exclude = ['nuclei', 'class', 'missing', 'id']\n",
    "fields_to_include = list(set(df.columns).difference(\n",
    "    set(fields_to_exclude)))  # plot over remaining columns\n",
    "n = len(\n",
    "    fields_to_include)  # number of features to compare missing vs non-missing\n",
    "\n",
    "classes = [0, 1]  # classes to compare\n",
    "\n",
    "f, axes = plt.subplots(\n",
    "    n, len(classes), figsize=(len(classes) * 3, n * 2), sharex=True)\n",
    "\n",
    "f.text(\n",
    "    x = .5,\n",
    "    y = .92,\n",
    "    s = 'Comparing distribution of features for missing samples\\n(arbitrary units)',\n",
    "    horizontalalignment='center',\n",
    "    fontsize=16)\n",
    "\n",
    "for row_num, field in enumerate(fields_to_include):\n",
    "    for cur_class in classes:\n",
    "        ax = axes[row_num, cur_class]\n",
    "\n",
    "        ax.hist(\n",
    "            df[field][(df['class'] == cur_class) & df['missing'] == 0],\n",
    "            bins=list(range(1, 11)),\n",
    "            density=True,\n",
    "            color='blue',\n",
    "            alpha=0.5)\n",
    "\n",
    "        ax.hist(\n",
    "            df[field][(df['class'] == cur_class) & df['missing'] == 1],\n",
    "            bins=list(range(1, 11)),\n",
    "            density=True,\n",
    "            color='red',\n",
    "            alpha=0.5)\n",
    "\n",
    "        if cur_class == 0: ax.set_ylabel(field)\n",
    "        ax.get_yaxis().set_ticks([])\n",
    "\n",
    "# creating custom legend\n",
    "\n",
    "legend_elements = [\n",
    "    Patch(facecolor='blue', edgecolor='blue', alpha=0.5, label='not missing'),\n",
    "    Patch(facecolor='red', edgecolor='red', alpha=0.5, label='missing')\n",
    "]\n",
    "\n",
    "axes[0, 1].legend(\n",
    "    handles=legend_elements,\n",
    "    loc='topright',\n",
    "    bbox_to_anchor=(1, 1),\n",
    "    fontsize=14);\n",
    "\n",
    "axes[0, 0].set_title('Benign');\n",
    "axes[0, 1].set_title('Malignant');"
   ]
  },
  {
   "cell_type": "markdown",
   "metadata": {},
   "source": [
    "## Duplicates: checking for and removing duplicate values"
   ]
  },
  {
   "cell_type": "markdown",
   "metadata": {},
   "source": [
    "Shows the duplicate rows. Note that there is one that has `missing = 1` (`id = 733639`). Can remove that one"
   ]
  },
  {
   "cell_type": "code",
   "execution_count": 36,
   "metadata": {
    "ExecuteTime": {
     "end_time": "2018-10-15T05:27:19.166038Z",
     "start_time": "2018-10-15T05:27:19.111438Z"
    }
   },
   "outputs": [
    {
     "name": "stdout",
     "output_type": "stream",
     "text": [
      "Number of duplicated rows: 9 \n",
      "Total (including duplicates): 18\n"
     ]
    },
    {
     "data": {
      "text/html": [
       "<div>\n",
       "<style scoped>\n",
       "    .dataframe tbody tr th:only-of-type {\n",
       "        vertical-align: middle;\n",
       "    }\n",
       "\n",
       "    .dataframe tbody tr th {\n",
       "        vertical-align: top;\n",
       "    }\n",
       "\n",
       "    .dataframe thead th {\n",
       "        text-align: right;\n",
       "    }\n",
       "</style>\n",
       "<table border=\"1\" class=\"dataframe\">\n",
       "  <thead>\n",
       "    <tr style=\"text-align: right;\">\n",
       "      <th></th>\n",
       "      <th>id</th>\n",
       "      <th>thickness</th>\n",
       "      <th>usize</th>\n",
       "      <th>ushape</th>\n",
       "      <th>adhesion</th>\n",
       "      <th>cell_size</th>\n",
       "      <th>nuclei</th>\n",
       "      <th>chromatin</th>\n",
       "      <th>nucleoli</th>\n",
       "      <th>mitoses</th>\n",
       "      <th>class</th>\n",
       "      <th>missing</th>\n",
       "    </tr>\n",
       "  </thead>\n",
       "  <tbody>\n",
       "    <tr>\n",
       "      <th>267</th>\n",
       "      <td>320675</td>\n",
       "      <td>3</td>\n",
       "      <td>3</td>\n",
       "      <td>5</td>\n",
       "      <td>2</td>\n",
       "      <td>3</td>\n",
       "      <td>10.0</td>\n",
       "      <td>7</td>\n",
       "      <td>1</td>\n",
       "      <td>1</td>\n",
       "      <td>1</td>\n",
       "      <td>0</td>\n",
       "    </tr>\n",
       "    <tr>\n",
       "      <th>272</th>\n",
       "      <td>320675</td>\n",
       "      <td>3</td>\n",
       "      <td>3</td>\n",
       "      <td>5</td>\n",
       "      <td>2</td>\n",
       "      <td>3</td>\n",
       "      <td>10.0</td>\n",
       "      <td>7</td>\n",
       "      <td>1</td>\n",
       "      <td>1</td>\n",
       "      <td>1</td>\n",
       "      <td>0</td>\n",
       "    </tr>\n",
       "    <tr>\n",
       "      <th>683</th>\n",
       "      <td>466906</td>\n",
       "      <td>1</td>\n",
       "      <td>1</td>\n",
       "      <td>1</td>\n",
       "      <td>1</td>\n",
       "      <td>2</td>\n",
       "      <td>1.0</td>\n",
       "      <td>1</td>\n",
       "      <td>1</td>\n",
       "      <td>1</td>\n",
       "      <td>0</td>\n",
       "      <td>0</td>\n",
       "    </tr>\n",
       "    <tr>\n",
       "      <th>684</th>\n",
       "      <td>466906</td>\n",
       "      <td>1</td>\n",
       "      <td>1</td>\n",
       "      <td>1</td>\n",
       "      <td>1</td>\n",
       "      <td>2</td>\n",
       "      <td>1.0</td>\n",
       "      <td>1</td>\n",
       "      <td>1</td>\n",
       "      <td>1</td>\n",
       "      <td>0</td>\n",
       "      <td>0</td>\n",
       "    </tr>\n",
       "    <tr>\n",
       "      <th>314</th>\n",
       "      <td>704097</td>\n",
       "      <td>1</td>\n",
       "      <td>1</td>\n",
       "      <td>1</td>\n",
       "      <td>1</td>\n",
       "      <td>1</td>\n",
       "      <td>1.0</td>\n",
       "      <td>2</td>\n",
       "      <td>1</td>\n",
       "      <td>1</td>\n",
       "      <td>0</td>\n",
       "      <td>0</td>\n",
       "    </tr>\n",
       "    <tr>\n",
       "      <th>338</th>\n",
       "      <td>704097</td>\n",
       "      <td>1</td>\n",
       "      <td>1</td>\n",
       "      <td>1</td>\n",
       "      <td>1</td>\n",
       "      <td>1</td>\n",
       "      <td>1.0</td>\n",
       "      <td>2</td>\n",
       "      <td>1</td>\n",
       "      <td>1</td>\n",
       "      <td>0</td>\n",
       "      <td>0</td>\n",
       "    </tr>\n",
       "    <tr>\n",
       "      <th>321</th>\n",
       "      <td>733639</td>\n",
       "      <td>3</td>\n",
       "      <td>1</td>\n",
       "      <td>1</td>\n",
       "      <td>1</td>\n",
       "      <td>2</td>\n",
       "      <td>NaN</td>\n",
       "      <td>3</td>\n",
       "      <td>1</td>\n",
       "      <td>1</td>\n",
       "      <td>0</td>\n",
       "      <td>1</td>\n",
       "    </tr>\n",
       "    <tr>\n",
       "      <th>322</th>\n",
       "      <td>733639</td>\n",
       "      <td>3</td>\n",
       "      <td>1</td>\n",
       "      <td>1</td>\n",
       "      <td>1</td>\n",
       "      <td>2</td>\n",
       "      <td>1.0</td>\n",
       "      <td>3</td>\n",
       "      <td>1</td>\n",
       "      <td>1</td>\n",
       "      <td>0</td>\n",
       "      <td>0</td>\n",
       "    </tr>\n",
       "    <tr>\n",
       "      <th>253</th>\n",
       "      <td>1100524</td>\n",
       "      <td>6</td>\n",
       "      <td>10</td>\n",
       "      <td>10</td>\n",
       "      <td>2</td>\n",
       "      <td>8</td>\n",
       "      <td>10.0</td>\n",
       "      <td>7</td>\n",
       "      <td>3</td>\n",
       "      <td>3</td>\n",
       "      <td>1</td>\n",
       "      <td>0</td>\n",
       "    </tr>\n",
       "    <tr>\n",
       "      <th>42</th>\n",
       "      <td>1100524</td>\n",
       "      <td>6</td>\n",
       "      <td>10</td>\n",
       "      <td>10</td>\n",
       "      <td>2</td>\n",
       "      <td>8</td>\n",
       "      <td>10.0</td>\n",
       "      <td>7</td>\n",
       "      <td>3</td>\n",
       "      <td>3</td>\n",
       "      <td>1</td>\n",
       "      <td>0</td>\n",
       "    </tr>\n",
       "    <tr>\n",
       "      <th>254</th>\n",
       "      <td>1116116</td>\n",
       "      <td>9</td>\n",
       "      <td>10</td>\n",
       "      <td>10</td>\n",
       "      <td>1</td>\n",
       "      <td>10</td>\n",
       "      <td>8.0</td>\n",
       "      <td>3</td>\n",
       "      <td>3</td>\n",
       "      <td>1</td>\n",
       "      <td>1</td>\n",
       "      <td>0</td>\n",
       "    </tr>\n",
       "    <tr>\n",
       "      <th>62</th>\n",
       "      <td>1116116</td>\n",
       "      <td>9</td>\n",
       "      <td>10</td>\n",
       "      <td>10</td>\n",
       "      <td>1</td>\n",
       "      <td>10</td>\n",
       "      <td>8.0</td>\n",
       "      <td>3</td>\n",
       "      <td>3</td>\n",
       "      <td>1</td>\n",
       "      <td>1</td>\n",
       "      <td>0</td>\n",
       "    </tr>\n",
       "    <tr>\n",
       "      <th>258</th>\n",
       "      <td>1198641</td>\n",
       "      <td>3</td>\n",
       "      <td>1</td>\n",
       "      <td>1</td>\n",
       "      <td>1</td>\n",
       "      <td>2</td>\n",
       "      <td>1.0</td>\n",
       "      <td>3</td>\n",
       "      <td>1</td>\n",
       "      <td>1</td>\n",
       "      <td>0</td>\n",
       "      <td>0</td>\n",
       "    </tr>\n",
       "    <tr>\n",
       "      <th>168</th>\n",
       "      <td>1198641</td>\n",
       "      <td>3</td>\n",
       "      <td>1</td>\n",
       "      <td>1</td>\n",
       "      <td>1</td>\n",
       "      <td>2</td>\n",
       "      <td>1.0</td>\n",
       "      <td>3</td>\n",
       "      <td>1</td>\n",
       "      <td>1</td>\n",
       "      <td>0</td>\n",
       "      <td>0</td>\n",
       "    </tr>\n",
       "    <tr>\n",
       "      <th>208</th>\n",
       "      <td>1218860</td>\n",
       "      <td>1</td>\n",
       "      <td>1</td>\n",
       "      <td>1</td>\n",
       "      <td>1</td>\n",
       "      <td>1</td>\n",
       "      <td>1.0</td>\n",
       "      <td>3</td>\n",
       "      <td>1</td>\n",
       "      <td>1</td>\n",
       "      <td>0</td>\n",
       "      <td>0</td>\n",
       "    </tr>\n",
       "    <tr>\n",
       "      <th>207</th>\n",
       "      <td>1218860</td>\n",
       "      <td>1</td>\n",
       "      <td>1</td>\n",
       "      <td>1</td>\n",
       "      <td>1</td>\n",
       "      <td>1</td>\n",
       "      <td>1.0</td>\n",
       "      <td>3</td>\n",
       "      <td>1</td>\n",
       "      <td>1</td>\n",
       "      <td>0</td>\n",
       "      <td>0</td>\n",
       "    </tr>\n",
       "    <tr>\n",
       "      <th>560</th>\n",
       "      <td>1321942</td>\n",
       "      <td>5</td>\n",
       "      <td>1</td>\n",
       "      <td>1</td>\n",
       "      <td>1</td>\n",
       "      <td>2</td>\n",
       "      <td>1.0</td>\n",
       "      <td>3</td>\n",
       "      <td>1</td>\n",
       "      <td>1</td>\n",
       "      <td>0</td>\n",
       "      <td>0</td>\n",
       "    </tr>\n",
       "    <tr>\n",
       "      <th>561</th>\n",
       "      <td>1321942</td>\n",
       "      <td>5</td>\n",
       "      <td>1</td>\n",
       "      <td>1</td>\n",
       "      <td>1</td>\n",
       "      <td>2</td>\n",
       "      <td>1.0</td>\n",
       "      <td>3</td>\n",
       "      <td>1</td>\n",
       "      <td>1</td>\n",
       "      <td>0</td>\n",
       "      <td>0</td>\n",
       "    </tr>\n",
       "  </tbody>\n",
       "</table>\n",
       "</div>"
      ],
      "text/plain": [
       "          id  thickness  usize  ushape  adhesion  cell_size  nuclei  \\\n",
       "267   320675          3      3       5         2          3    10.0   \n",
       "272   320675          3      3       5         2          3    10.0   \n",
       "683   466906          1      1       1         1          2     1.0   \n",
       "684   466906          1      1       1         1          2     1.0   \n",
       "314   704097          1      1       1         1          1     1.0   \n",
       "338   704097          1      1       1         1          1     1.0   \n",
       "321   733639          3      1       1         1          2     NaN   \n",
       "322   733639          3      1       1         1          2     1.0   \n",
       "253  1100524          6     10      10         2          8    10.0   \n",
       "42   1100524          6     10      10         2          8    10.0   \n",
       "254  1116116          9     10      10         1         10     8.0   \n",
       "62   1116116          9     10      10         1         10     8.0   \n",
       "258  1198641          3      1       1         1          2     1.0   \n",
       "168  1198641          3      1       1         1          2     1.0   \n",
       "208  1218860          1      1       1         1          1     1.0   \n",
       "207  1218860          1      1       1         1          1     1.0   \n",
       "560  1321942          5      1       1         1          2     1.0   \n",
       "561  1321942          5      1       1         1          2     1.0   \n",
       "\n",
       "     chromatin  nucleoli  mitoses  class  missing  \n",
       "267          7         1        1      1        0  \n",
       "272          7         1        1      1        0  \n",
       "683          1         1        1      0        0  \n",
       "684          1         1        1      0        0  \n",
       "314          2         1        1      0        0  \n",
       "338          2         1        1      0        0  \n",
       "321          3         1        1      0        1  \n",
       "322          3         1        1      0        0  \n",
       "253          7         3        3      1        0  \n",
       "42           7         3        3      1        0  \n",
       "254          3         3        1      1        0  \n",
       "62           3         3        1      1        0  \n",
       "258          3         1        1      0        0  \n",
       "168          3         1        1      0        0  \n",
       "208          3         1        1      0        0  \n",
       "207          3         1        1      0        0  \n",
       "560          3         1        1      0        0  \n",
       "561          3         1        1      0        0  "
      ]
     },
     "execution_count": 36,
     "metadata": {},
     "output_type": "execute_result"
    }
   ],
   "source": [
    "subset_cols = [\n",
    "    'id', 'thickness', 'usize', 'ushape', 'adhesion', 'cell_size', 'chromatin',\n",
    "    'nucleoli', 'mitoses', 'class'\n",
    "]\n",
    "\n",
    "num_unique = df.duplicated(subset=subset_cols).sum()\n",
    "\n",
    "num_duplicates = df.duplicated(subset=subset_cols, keep=False).sum()\n",
    "\n",
    "print('Number of duplicated rows:', num_unique,\n",
    "      '\\nTotal (including duplicates):', num_duplicates)\n",
    "\n",
    "df[df.duplicated(subset=subset_cols,\n",
    "                 keep=False)].sort_values(by='id')  # gets the duplicate rows"
   ]
  },
  {
   "cell_type": "markdown",
   "metadata": {},
   "source": [
    "Remove row 321 with the ? value in *nuclei*"
   ]
  },
  {
   "cell_type": "code",
   "execution_count": 37,
   "metadata": {
    "ExecuteTime": {
     "end_time": "2018-10-15T05:27:19.343990Z",
     "start_time": "2018-10-15T05:27:19.338138Z"
    }
   },
   "outputs": [],
   "source": [
    "df = df.drop(321)"
   ]
  },
  {
   "cell_type": "markdown",
   "metadata": {},
   "source": [
    "Remove rows that are identical duplicates"
   ]
  },
  {
   "cell_type": "code",
   "execution_count": 38,
   "metadata": {
    "ExecuteTime": {
     "end_time": "2018-10-15T05:27:19.532010Z",
     "start_time": "2018-10-15T05:27:19.517406Z"
    }
   },
   "outputs": [],
   "source": [
    "df = df.drop_duplicates(keep='first')"
   ]
  },
  {
   "cell_type": "markdown",
   "metadata": {},
   "source": [
    "# Data exploration"
   ]
  },
  {
   "cell_type": "markdown",
   "metadata": {},
   "source": [
    "In this section, we explore how each feature is related to the cell class, and find that all of the features generally have higher values for the malignant cells"
   ]
  },
  {
   "cell_type": "code",
   "execution_count": 39,
   "metadata": {
    "ExecuteTime": {
     "end_time": "2018-10-15T05:27:19.774551Z",
     "start_time": "2018-10-15T05:27:19.768798Z"
    }
   },
   "outputs": [],
   "source": [
    "# df.groupby(['missing','class']).count() # count of samples in each, ex. NaN"
   ]
  },
  {
   "cell_type": "markdown",
   "metadata": {},
   "source": [
    "All fields appear to have higher values for malignant tumors than for benign tumors, as observed in table and plot below"
   ]
  },
  {
   "cell_type": "code",
   "execution_count": 40,
   "metadata": {
    "ExecuteTime": {
     "end_time": "2018-10-15T05:27:20.082184Z",
     "start_time": "2018-10-15T05:27:20.051459Z"
    }
   },
   "outputs": [
    {
     "data": {
      "text/html": [
       "<div>\n",
       "<style scoped>\n",
       "    .dataframe tbody tr th:only-of-type {\n",
       "        vertical-align: middle;\n",
       "    }\n",
       "\n",
       "    .dataframe tbody tr th {\n",
       "        vertical-align: top;\n",
       "    }\n",
       "\n",
       "    .dataframe thead th {\n",
       "        text-align: right;\n",
       "    }\n",
       "</style>\n",
       "<table border=\"1\" class=\"dataframe\">\n",
       "  <thead>\n",
       "    <tr style=\"text-align: right;\">\n",
       "      <th></th>\n",
       "      <th>id</th>\n",
       "      <th>thickness</th>\n",
       "      <th>usize</th>\n",
       "      <th>ushape</th>\n",
       "      <th>adhesion</th>\n",
       "      <th>cell_size</th>\n",
       "      <th>nuclei</th>\n",
       "      <th>chromatin</th>\n",
       "      <th>nucleoli</th>\n",
       "      <th>mitoses</th>\n",
       "      <th>missing</th>\n",
       "    </tr>\n",
       "    <tr>\n",
       "      <th>class</th>\n",
       "      <th></th>\n",
       "      <th></th>\n",
       "      <th></th>\n",
       "      <th></th>\n",
       "      <th></th>\n",
       "      <th></th>\n",
       "      <th></th>\n",
       "      <th></th>\n",
       "      <th></th>\n",
       "      <th></th>\n",
       "      <th></th>\n",
       "    </tr>\n",
       "  </thead>\n",
       "  <tbody>\n",
       "    <tr>\n",
       "      <th>0</th>\n",
       "      <td>1.117e+06</td>\n",
       "      <td>2.973</td>\n",
       "      <td>1.310</td>\n",
       "      <td>1.419</td>\n",
       "      <td>1.351</td>\n",
       "      <td>2.114</td>\n",
       "      <td>1.351</td>\n",
       "      <td>2.080</td>\n",
       "      <td>1.264</td>\n",
       "      <td>1.066</td>\n",
       "      <td>0.0</td>\n",
       "    </tr>\n",
       "    <tr>\n",
       "      <th>1</th>\n",
       "      <td>1.007e+06</td>\n",
       "      <td>7.203</td>\n",
       "      <td>6.564</td>\n",
       "      <td>6.538</td>\n",
       "      <td>5.636</td>\n",
       "      <td>5.305</td>\n",
       "      <td>7.606</td>\n",
       "      <td>5.979</td>\n",
       "      <td>5.903</td>\n",
       "      <td>2.614</td>\n",
       "      <td>0.0</td>\n",
       "    </tr>\n",
       "  </tbody>\n",
       "</table>\n",
       "</div>"
      ],
      "text/plain": [
       "              id  thickness  usize  ushape  adhesion  cell_size  nuclei  \\\n",
       "class                                                                     \n",
       "0      1.117e+06      2.973  1.310   1.419     1.351      2.114   1.351   \n",
       "1      1.007e+06      7.203  6.564   6.538     5.636      5.305   7.606   \n",
       "\n",
       "       chromatin  nucleoli  mitoses  missing  \n",
       "class                                         \n",
       "0          2.080     1.264    1.066      0.0  \n",
       "1          5.979     5.903    2.614      0.0  "
      ]
     },
     "execution_count": 40,
     "metadata": {},
     "output_type": "execute_result"
    }
   ],
   "source": [
    "df[df['missing']==0].groupby('class').mean() # average in each"
   ]
  },
  {
   "cell_type": "code",
   "execution_count": 41,
   "metadata": {
    "ExecuteTime": {
     "end_time": "2018-10-15T05:27:21.897462Z",
     "start_time": "2018-10-15T05:27:20.601333Z"
    }
   },
   "outputs": [
    {
     "data": {
      "image/png": "[encoded data removed]",
      "text/plain": [
       "<Figure size 648x648 with 9 Axes>"
      ]
     },
     "metadata": {},
     "output_type": "display_data"
    }
   ],
   "source": [
    "fields_to_exclude = ['class', 'missing', 'id']\n",
    "fields_to_include = list(set(df.columns).difference(\n",
    "    set(fields_to_exclude)))  # plot over remaining columns\n",
    "n = len(\n",
    "    fields_to_include)  # number of features to compare missing vs non-missing\n",
    "\n",
    "classes = [0, 1]  # classes to compare\n",
    "\n",
    "num_cols = 3\n",
    "\n",
    "num_rows = int(n / num_cols)\n",
    "\n",
    "f, axes = plt.subplots(num_rows, num_cols, figsize=(num_rows*3,num_cols*3), sharex=True)\n",
    "\n",
    "for i in range(n):\n",
    "    row = int(i/num_cols)\n",
    "    col = (i+1) % num_cols\n",
    "    ax = axes[row, col]\n",
    "    sns.boxplot(x = 'class', y= fields_to_include[i], data=df[df['missing'] == 0], ax = ax)\n",
    "    \n",
    "plt.tight_layout()"
   ]
  },
  {
   "cell_type": "markdown",
   "metadata": {},
   "source": [
    "# Feature selection"
   ]
  },
  {
   "cell_type": "markdown",
   "metadata": {},
   "source": [
    "We will include all features, given we have seen that they are all correlated with the class of cell"
   ]
  },
  {
   "cell_type": "markdown",
   "metadata": {},
   "source": [
    "# Model selection\n",
    "\n",
    "## Choice of model\n",
    "\n",
    "**Model description:**\n",
    "\n",
    "This is a binary classification problem (classifying cell as benign (0) or malignant (1)). Therefore, we will use a binary classifier. We compare three choices of binary classifiers:\n",
    "1. Logistic Regression\n",
    "2. SVM\n",
    "3. Random Forest.\n",
    "\n",
    "\n",
    "The model pipeline is as follows:\n",
    "\n",
    "- **Imputation**. Keep data points with missing values and imputing with the mode (most frequent values)\n",
    "\n",
    "\n",
    "- **Scaling**. Scale all features to zero mean, and unit variance\n",
    "\n",
    "\n",
    "- **Train / test split**. We do a single 80 / 20 train / test split on the data\n",
    "\n",
    "\n",
    "- **Hyperparameter tuning**. Use grid search to do hyperparameter tuning, with 3-fold cross-validation on the training set (would do more if no time constraints)\n",
    "   - Balance classes when training, given that the original dataset is unbalanced (2/3 are benign)\n",
    "\n",
    "**Rationale for cost function:**\n",
    "\n",
    "We have a choice for what we want our model to optimize our model for: maximizing accuracy, precision, recall, etc. Given we are diagnosing cancer, we likely want to optimize our model to **reduce false negatives**, as we think it is more costly to miss cancer when it is present than to identify cancer when it is not present. Therefore, we will optimize for **recall** (= TP / (TP + FN))."
   ]
  },
  {
   "cell_type": "markdown",
   "metadata": {},
   "source": [
    "## Setting up the model"
   ]
  },
  {
   "cell_type": "code",
   "execution_count": 42,
   "metadata": {
    "ExecuteTime": {
     "end_time": "2018-10-15T05:27:24.075341Z",
     "start_time": "2018-10-15T05:27:23.807142Z"
    }
   },
   "outputs": [],
   "source": [
    "# importing sklearn libraries\n",
    "from sklearn.impute import SimpleImputer\n",
    "from sklearn.pipeline import make_pipeline\n",
    "from sklearn.preprocessing import StandardScaler\n",
    "from sklearn.model_selection import train_test_split, GridSearchCV\n",
    "from sklearn.metrics import roc_curve, auc, classification_report\n",
    "\n",
    "from sklearn.linear_model import LogisticRegression\n",
    "from sklearn.svm import SVC\n",
    "from sklearn.ensemble import RandomForestClassifier"
   ]
  },
  {
   "cell_type": "code",
   "execution_count": 43,
   "metadata": {
    "ExecuteTime": {
     "end_time": "2018-10-15T05:27:24.252257Z",
     "start_time": "2018-10-15T05:27:24.247057Z"
    }
   },
   "outputs": [],
   "source": [
    "# features to include in model\n",
    "features = [\n",
    "    'thickness', 'usize', 'ushape', 'adhesion', 'cell_size', 'nuclei',\n",
    "    'chromatin', 'nucleoli', 'mitoses'\n",
    "]"
   ]
  },
  {
   "cell_type": "code",
   "execution_count": 50,
   "metadata": {
    "ExecuteTime": {
     "end_time": "2018-10-15T05:28:02.244037Z",
     "start_time": "2018-10-15T05:28:02.234568Z"
    }
   },
   "outputs": [],
   "source": [
    "# 80 / 20 train / test split\n",
    "X_train, X_test, y_train, y_test = train_test_split(\n",
    "    df[features], df['class'], test_size=0.2, random_state=0)"
   ]
  },
  {
   "cell_type": "code",
   "execution_count": 51,
   "metadata": {
    "ExecuteTime": {
     "end_time": "2018-10-15T05:28:02.784100Z",
     "start_time": "2018-10-15T05:28:02.770030Z"
    }
   },
   "outputs": [],
   "source": [
    "imputer = SimpleImputer(\n",
    "    missing_values=np.nan, strategy='most_frequent')  # use mode\n",
    "class_weight = 'balanced'\n",
    "scoring = 'recall'\n",
    "\n",
    "l_clf = make_pipeline(\n",
    "    imputer, StandardScaler(),\n",
    "    GridSearchCV(\n",
    "        estimator=LogisticRegression(\n",
    "            class_weight=class_weight),\n",
    "        scoring=scoring,\n",
    "        param_grid={\n",
    "            'penalty': ['l1', 'l2'],\n",
    "            'C': [1e-2, 1e-1, 1, 10, 100]\n",
    "        },\n",
    "        cv=3))\n",
    "\n",
    "s_clf = make_pipeline(\n",
    "    imputer, StandardScaler(),\n",
    "    GridSearchCV(\n",
    "        estimator=SVC(gamma='auto', class_weight=class_weight),\n",
    "        scoring=scoring,\n",
    "        param_grid={'C': [1e-2, 1e-1, 1, 10, 100]},\n",
    "        cv=3))\n",
    "\n",
    "r_clf = make_pipeline(\n",
    "    imputer, StandardScaler(),\n",
    "    GridSearchCV(\n",
    "        estimator=RandomForestClassifier(class_weight=class_weight),\n",
    "        scoring=scoring,\n",
    "        param_grid={'n_estimators': [5, 10, 20]},\n",
    "        cv=3))"
   ]
  },
  {
   "cell_type": "markdown",
   "metadata": {},
   "source": [
    "# Model performance"
   ]
  },
  {
   "cell_type": "markdown",
   "metadata": {},
   "source": [
    "Here, we fit the models, make predictions, and evaluate the performance\n",
    "\n",
    "\n",
    "We find that the models are very effective, with high AUC (`>97%`) and high recall (`>94%`)"
   ]
  },
  {
   "cell_type": "code",
   "execution_count": 52,
   "metadata": {
    "ExecuteTime": {
     "end_time": "2018-10-15T05:28:04.553598Z",
     "start_time": "2018-10-15T05:28:04.001238Z"
    }
   },
   "outputs": [],
   "source": [
    "l_clf.fit(X_train, y_train)\n",
    "l_clf_y_pred_proba = l_clf.predict_proba(X_test)\n",
    "l_clf_y_pred = l_clf.predict(X_test)\n",
    "\n",
    "s_clf.fit(X_train, y_train)\n",
    "s_clf_y_pred = s_clf.predict(X_test)\n",
    "\n",
    "r_clf.fit(X_train, y_train)\n",
    "r_clf_y_pred_proba = r_clf.predict_proba(X_test)\n",
    "r_clf_y_pred = r_clf.predict(X_test)"
   ]
  },
  {
   "cell_type": "code",
   "execution_count": 53,
   "metadata": {
    "ExecuteTime": {
     "end_time": "2018-10-15T05:28:05.003942Z",
     "start_time": "2018-10-15T05:28:04.994333Z"
    }
   },
   "outputs": [],
   "source": [
    "def plot_roc(y_test, y_pred_proba, labels = ['']):\n",
    "    \"\"\" plots ROC curve and prints the AUC\n",
    "    \"\"\"\n",
    "    n = len(y_pred_proba)\n",
    "    fig, ax = plt.subplots(figsize=(8,6))\n",
    "    for i in range(n):\n",
    "        fpr, tpr, thresholds = roc_curve(y_test, y_pred_proba[i])\n",
    "        tpr[0] = 0.0\n",
    "        plt.plot(fpr, tpr, lw=1, alpha=1, label=labels[i])\n",
    "        roc_auc = auc(fpr, tpr)\n",
    "        print(labels[i], 'AUC: %0.3f' % (roc_auc))\n",
    "    plt.plot([0, 1], [0, 1], linestyle='--', lw=2, color='r',\n",
    "         label='Chance', alpha=.8)   \n",
    "    plt.xlim([-0.05, 1.05])\n",
    "    plt.ylim([-0.05, 1.05])\n",
    "    plt.xlabel('False Positive Rate', fontsize=18)\n",
    "    plt.ylabel('True Positive Rate', fontsize=18)\n",
    "    plt.title('ROC curve')\n",
    "    plt.legend(loc=\"lower right\")"
   ]
  },
  {
   "cell_type": "markdown",
   "metadata": {},
   "source": [
    "Both Logistic Regression and Random Forest have a very high area-under-the-ROC-curve (both over 97%), indicating they are effective predictors"
   ]
  },
  {
   "cell_type": "code",
   "execution_count": 54,
   "metadata": {
    "ExecuteTime": {
     "end_time": "2018-10-15T05:28:08.098620Z",
     "start_time": "2018-10-15T05:28:07.694839Z"
    }
   },
   "outputs": [
    {
     "name": "stdout",
     "output_type": "stream",
     "text": [
      "Logistic Regression AUC: 0.990\n",
      "Random Forest AUC: 0.976\n"
     ]
    },
    {
     "data": {
      "image/png": "[encoded data removed]",
      "text/plain": [
       "<Figure size 576x432 with 1 Axes>"
      ]
     },
     "metadata": {},
     "output_type": "display_data"
    }
   ],
   "source": [
    "plot_roc(y_test, \n",
    "         [l_clf_y_pred_proba[:,1],\n",
    "          r_clf_y_pred_proba[:,1]],\n",
    "         ['Logistic Regression','Random Forest'])"
   ]
  },
  {
   "cell_type": "markdown",
   "metadata": {},
   "source": [
    "All three models have high recall, over **94%**. Shown below are precision, recall, and f1-score for each class (0: benign, 1: malignant) and the overall scores are provided in the last row ('weighted avg')\n",
    "\n",
    "Random Forest performed best on recall (with the threshold of 50%)"
   ]
  },
  {
   "cell_type": "code",
   "execution_count": 55,
   "metadata": {
    "ExecuteTime": {
     "end_time": "2018-10-15T05:28:11.237659Z",
     "start_time": "2018-10-15T05:28:11.208006Z"
    }
   },
   "outputs": [
    {
     "name": "stdout",
     "output_type": "stream",
     "text": [
      "Logistic regression\n",
      "              precision    recall  f1-score   support\n",
      "\n",
      "           0       1.00      0.90      0.95        84\n",
      "           1       0.87      1.00      0.93        54\n",
      "\n",
      "   micro avg       0.94      0.94      0.94       138\n",
      "   macro avg       0.94      0.95      0.94       138\n",
      "weighted avg       0.95      0.94      0.94       138\n",
      "\n",
      "SVM\n",
      "              precision    recall  f1-score   support\n",
      "\n",
      "           0       1.00      0.90      0.95        84\n",
      "           1       0.87      1.00      0.93        54\n",
      "\n",
      "   micro avg       0.94      0.94      0.94       138\n",
      "   macro avg       0.94      0.95      0.94       138\n",
      "weighted avg       0.95      0.94      0.94       138\n",
      "\n",
      "Random Forest\n",
      "              precision    recall  f1-score   support\n",
      "\n",
      "           0       0.99      0.93      0.96        84\n",
      "           1       0.90      0.98      0.94        54\n",
      "\n",
      "   micro avg       0.95      0.95      0.95       138\n",
      "   macro avg       0.94      0.96      0.95       138\n",
      "weighted avg       0.95      0.95      0.95       138\n",
      "\n"
     ]
    }
   ],
   "source": [
    "print('Logistic regression')\n",
    "print(classification_report(y_test, l_clf_y_pred))\n",
    "\n",
    "print('SVM')\n",
    "print(classification_report(y_test, s_clf_y_pred))\n",
    "\n",
    "print('Random Forest')\n",
    "print(classification_report(y_test, r_clf_y_pred))"
   ]
  },
  {
   "cell_type": "markdown",
   "metadata": {},
   "source": [
    "# Summary of results"
   ]
  },
  {
   "cell_type": "markdown",
   "metadata": {},
   "source": [
    "- We discovered that the raw data has missing values and duplicate values; we imputed missing values and removed duplicate values\n",
    "\n",
    "\n",
    "- We trained three models that are effective at diagnosing whether biopsied breast cancer cells are malignant vs benign\n",
    "    - All three classifiers produced `recall > 94%`\n",
    "    - Logistic Regression and Random Forest both had `AUC > 97%`"
   ]
  },
  {
   "cell_type": "markdown",
   "metadata": {
    "ExecuteTime": {
     "end_time": "2018-10-12T23:42:15.509097Z",
     "start_time": "2018-10-12T23:42:15.504249Z"
    }
   },
   "source": [
    "# Next steps"
   ]
  },
  {
   "cell_type": "markdown",
   "metadata": {},
   "source": [
    "We can likely make our models more robust with:\n",
    "- Additional train / test splits, and averaging over the trained parameters\n",
    "- Randomized search over the full hyperparameter space"
   ]
  }
 ],
 "metadata": {
  "kernelspec": {
   "display_name": "Python 3",
   "language": "python",
   "name": "python3"
  },
  "language_info": {
   "codemirror_mode": {
    "name": "ipython",
    "version": 3
   },
   "file_extension": ".py",
   "mimetype": "text/x-python",
   "name": "python",
   "nbconvert_exporter": "python",
   "pygments_lexer": "ipython3",
   "version": "3.6.5"
  },
  "toc": {
   "base_numbering": 1,
   "nav_menu": {},
   "number_sections": true,
   "sideBar": true,
   "skip_h1_title": false,
   "title_cell": "Table of Contents",
   "title_sidebar": "Contents",
   "toc_cell": true,
   "toc_position": {},
   "toc_section_display": true,
   "toc_window_display": true
  },
  "varInspector": {
   "cols": {
    "lenName": 16,
    "lenType": 16,
    "lenVar": 40
   },
   "kernels_config": {
    "python": {
     "delete_cmd_postfix": "",
     "delete_cmd_prefix": "del ",
     "library": "var_list.py",
     "varRefreshCmd": "print(var_dic_list())"
    },
    "r": {
     "delete_cmd_postfix": ") ",
     "delete_cmd_prefix": "rm(",
     "library": "var_list.r",
     "varRefreshCmd": "cat(var_dic_list()) "
    }
   },
   "types_to_exclude": [
    "module",
    "function",
    "builtin_function_or_method",
    "instance",
    "_Feature"
   ],
   "window_display": false
  }
 },
 "nbformat": 4,
 "nbformat_minor": 2
}
